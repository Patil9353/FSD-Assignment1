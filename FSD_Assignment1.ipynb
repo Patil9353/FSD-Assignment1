{
  "nbformat": 4,
  "nbformat_minor": 0,
  "metadata": {
    "colab": {
      "provenance": []
    },
    "kernelspec": {
      "name": "python3",
      "display_name": "Python 3"
    },
    "language_info": {
      "name": "python"
    }
  },
  "cells": [
    {
      "cell_type": "code",
      "execution_count": null,
      "metadata": {
        "id": "er5pA6A3wLuA"
      },
      "outputs": [],
      "source": []
    },
    {
      "cell_type": "markdown",
      "source": [
        "#Assignment 1\n"
      ],
      "metadata": {
        "id": "_6WMPAfmwch0"
      }
    },
    {
      "cell_type": "markdown",
      "source": [
        "1. Explain the main components of client-server\n",
        "architecture and their functions?\n",
        "-> Client-server architecture is a network design model where multiple clients (users or devices) interact with a central server to request and receive services.\n",
        "The main components of client-server architecture are:\n",
        "Client: Requests services, processes, and displays data.\n",
        "Server: Provides resources, processes requests, and ensures security.\n",
        "Network: Connects clients and servers, enabling data transfer.\n",
        "Database (Optional):Stores and manages data.\n",
        "Protocols : Rules for communication (e.g., HTTP, TCP/IP, FTP).\n",
        "\n",
        "2. Discuss the various career paths available after completing a web development course.\n",
        "->Front-End Developer: Focuses on user interface and visual aspects.\n",
        "Back-End Developer: Manages server-side logic, databases, and application integration.\n",
        "Full-Stack Developer: Skilled in both front-end and back-end development.\n",
        "Web Designer: Specializes in design and layout of websites.\n",
        "Web Administrator: Manages web servers and ensures website performance and security.\n",
        "\n",
        "3. Describe the role of a web browser's developer tools in web development.\n",
        "-> Web browser developer tools (DevTools) help developers inspect, debug, and optimize websites.\n",
        "Key features include:\n",
        "Inspect & Edit HTML/CSS:Modify elements in real-time.\n",
        "Debug JavaScript: Fix errors using breakpoints and console logs.\n",
        "Network Monitoring: Analyze HTTP requests and improve load times.\n",
        "Performance Optimization: Measure speed, memory, and responsiveness.\n",
        "\n",
        "4. What are the advantages of using a Version Control System like Git in a development project,\n",
        "->Browsers like Chrome and Firefox with built-in developer tools.\n",
        "Allow inspection of HTML/CSS, debugging of JavaScript.\n",
        "Monitor network requests and analyze performance.\n",
        "\n",
        "5. Compare and contrast a text editor and an IDE, highlighting their key features and uses.\n",
        "->Text Editor: Simple tool for writing code (e.g., Notepad++, Sublime Text).\n",
        "Performance:Fast, uses fewer resources.\n",
        "\n",
        "IDE: Robust environment with features like debugging, version control, project management (e.g., Visual Studio Code, IntelliJ IDEA).\n",
        "Performance:Heavier, but powerful with advanced tools.\n",
        "\n",
        "\n"
      ],
      "metadata": {
        "id": "eUX6GgEGxCCr"
      }
    },
    {
      "cell_type": "markdown",
      "source": [],
      "metadata": {
        "id": "K5ecyA8ewYa1"
      }
    }
  ]
}